{
  "nbformat": 4,
  "nbformat_minor": 0,
  "metadata": {
    "colab": {
      "provenance": [],
      "collapsed_sections": []
    },
    "kernelspec": {
      "name": "python3",
      "display_name": "Python 3"
    },
    "language_info": {
      "name": "python"
    }
  },
  "cells": [
    {
      "cell_type": "markdown",
      "source": [
        "Para o Trabalho prático eu segui \n",
        "[este tutorial](https://raw.githubusercontent.com/ssloy/tinyrenderer/master/obj/diablo3_pose/diablo3_pose.obj)\n",
        "colocando enfâse na parte voltada para Álgebra liner"
      ],
      "metadata": {
        "id": "c9czVpV9WCey"
      }
    },
    {
      "cell_type": "code",
      "source": [
        "!python --version"
      ],
      "metadata": {
        "colab": {
          "base_uri": "https://localhost:8080/"
        },
        "id": "8xCx4EvxTV1e",
        "outputId": "e921bbc4-5786-4f79-8727-7bf9012d5a74"
      },
      "execution_count": 36,
      "outputs": [
        {
          "output_type": "stream",
          "name": "stdout",
          "text": [
            "Python 3.7.15\n"
          ]
        }
      ]
    },
    {
      "cell_type": "code",
      "source": [
        "import numpy as np\n",
        "import cv2\n",
        "from google.colab.patches import cv2_imshow\n",
        "import requests\n",
        "\n",
        "from collections import namedtuple"
      ],
      "metadata": {
        "id": "s4eSLh9ZW7zZ"
      },
      "execution_count": 1,
      "outputs": []
    },
    {
      "cell_type": "markdown",
      "source": [
        "Definindo algumas constantes"
      ],
      "metadata": {
        "id": "rMQU5Mr4o5Nl"
      }
    },
    {
      "cell_type": "code",
      "source": [
        "WIDTH = 512\n",
        "HEIGHT = 512\n",
        "\n",
        "def color(r: int, g: int, b: int) -> tuple:\n",
        "  return b, g, r"
      ],
      "metadata": {
        "id": "UwrEOIlgXnFs"
      },
      "execution_count": 2,
      "outputs": []
    },
    {
      "cell_type": "markdown",
      "source": [
        "Importando arquivos do github"
      ],
      "metadata": {
        "id": "eSl7MHl8o-yU"
      }
    },
    {
      "cell_type": "code",
      "source": [
        "DATA = {\n",
        "  \"african_head.obj\": requests.get(\"https://raw.githubusercontent.com/ssloy/tinyrenderer/master/obj/african_head/african_head.obj\"),\n",
        "  \"african_head_diffuse.tga\": requests.get(\"https://raw.githubusercontent.com/ssloy/tinyrenderer/master/obj/african_head/african_head_diffuse.tga\"),\n",
        "  \"diablo3_pose.obj\": requests.get(\"https://raw.githubusercontent.com/ssloy/tinyrenderer/master/obj/diablo3_pose/diablo3_pose.obj\"),\n",
        "  \"diablo3_pose_diffuse.tga\": requests.get(\"https://raw.githubusercontent.com/ssloy/tinyrenderer/master/obj/diablo3_pose/diablo3_pose_diffuse.tga\"),\n",
        "}"
      ],
      "metadata": {
        "id": "pmV3f0hdi7dH"
      },
      "execution_count": 3,
      "outputs": []
    },
    {
      "cell_type": "markdown",
      "source": [
        "Criando função para interpretar o arquivo TGA\n",
        "\n",
        "TODO linkar um site com a especificação do TGA"
      ],
      "metadata": {
        "id": "JrEMesPdpC0t"
      }
    },
    {
      "cell_type": "code",
      "source": [
        "def read_tga(tga: bytearray) -> np.array:\n",
        "  tga = tga[::-1] # Com a lista invertida fazer pop fica mais eficiente\n",
        "\n",
        "  def read_bytes(tga, length: int = 1) -> list:\n",
        "    return [tga.pop() for _ in range(length)]\n",
        "\n",
        "  def read_int(tga, length: int = 1) -> int:\n",
        "    return int.from_bytes([tga.pop() for _ in range(length)], \"little\")\n",
        "\n",
        "  def skip_bytes(tga, length: int = 1) -> None:\n",
        "    for _ in range(length):\n",
        "      tga.pop()\n",
        "\n",
        "\n",
        "  # > HEADER\n",
        "  # ID length\n",
        "  image_id_length = read_int(tga)\n",
        "\n",
        "  # Color map type\n",
        "  color_map = read_int(tga)\n",
        "  assert color_map == 0, f\"{color_map=} não implementado!\"\n",
        "\n",
        "  # image type (Compression and color types)\n",
        "  image_type = read_int(tga)\n",
        "  assert image_type in [2, 10], f\"{image_type=} não implementado!\"\n",
        "  rle = image_type == 10\n",
        "\n",
        "  # >> Color Map specification\n",
        "  # Ignored because color map type is 0\n",
        "  skip_bytes(tga, 5)\n",
        "\n",
        "  # >> Image specification\n",
        "  # X and Y origin\n",
        "  origin = (read_int(tga, 2), read_int(tga, 2))\n",
        "  assert origin == (0, 0), f\"{origin=} não implementado! Precisa ser (0, 0)!\"\n",
        "\n",
        "  # Image width and height\n",
        "  width, height = read_int(tga, 2), read_int(tga, 2)\n",
        "  \n",
        "  # Pixel Depth\n",
        "  color_depth = read_int()\n",
        "  assert color_depth == 24, f\"{color_depth=} não implementado!\"\n",
        "\n",
        "  image_descriptor = read_int()\n",
        "  assert (image_descriptor & 0b1100111) == 0, f\"{image_descriptor=} não implementado!\"\n",
        "  flip_horizontally = (image_descriptor & 0b0001000) != 0;\n",
        "  flip_vertically = (image_descriptor & 0b0010000) != 0;\n",
        "\n",
        "  # > image and color map data\n",
        "  # Image ID\n",
        "  skip_bytes(tga, image_id_length)\n",
        "  # Color Map (Asserted to no color map)\n",
        "  # Image data\n",
        "  image = np.zeros((width * height, 3), np.uint8)\n",
        "  if rle:\n",
        "    length = 0\n",
        "    while length > width * height:\n",
        "      packet_size = read_int()\n",
        "      if packet_size & 0b10000000 == 0:\n",
        "        # Raw packet\n",
        "        for _ in range(packet_size + 1):\n",
        "          image[length] = read_bytes(tga, 3)\n",
        "          length += 1\n",
        "      else:\n",
        "        # RLE packet\n",
        "        packet_size = packet_size & 0b01111111\n",
        "        color = read_bytes(tga, 3)\n",
        "        for _ in range(packet_size + 1):\n",
        "          image[length] = color\n",
        "          length += 1\n",
        "  else:\n",
        "    for _ in range(width * height):\n",
        "      image[length] = read_bytes(tga, 3)\n",
        "      length += 1\n",
        "  image = image.reshape(width, height, 3)\n",
        "\n",
        "  # if flip_horizontally:\n",
        "  #   image = image.flip(0)\n",
        "  # if flip_vertically:\n",
        "  #   image = image.flip(1)\n",
        "  return image"
      ],
      "metadata": {
        "id": "bzgbQAFteoKZ",
        "colab": {
          "base_uri": "https://localhost:8080/",
          "height": 134
        },
        "outputId": "351c949f-31ee-4c1f-e629-6cd701cb71c1"
      },
      "execution_count": 33,
      "outputs": [
        {
          "output_type": "error",
          "ename": "SyntaxError",
          "evalue": "ignored",
          "traceback": [
            "\u001b[0;36m  File \u001b[0;32m\"<fstring>\"\u001b[0;36m, line \u001b[0;32m1\u001b[0m\n\u001b[0;31m    (color_map=)\u001b[0m\n\u001b[0m              ^\u001b[0m\n\u001b[0;31mSyntaxError\u001b[0m\u001b[0;31m:\u001b[0m invalid syntax\n"
          ]
        }
      ]
    },
    {
      "cell_type": "code",
      "source": [
        "img = read_tga(bytearray(DATA[\"african_head_diffuse.tga\"].content))\n",
        "# cv2_imshow(img)\n",
        "img = read_tga(bytearray(DATA[\"diablo3_pose_diffuse.tga\"].content))\n",
        "# cv2_imshow(img)"
      ],
      "metadata": {
        "colab": {
          "base_uri": "https://localhost:8080/"
        },
        "id": "mGbQGPq5ptlh",
        "outputId": "503142fd-0a0f-401d-c6e4-1240a86abb2b"
      },
      "execution_count": 25,
      "outputs": [
        {
          "output_type": "stream",
          "name": "stdout",
          "text": [
            "2801513\n",
            "['\\x87', '7', 'E', 'X', '\\x81', '9', 'G', 'Z', '\\x83', '8', 'F', 'Y', '\\x81', '7', 'E', 'X', '\\x87', '7', 'D', 'Z', '\\x00', '6', 'D', 'W', '\\x84', '7', 'E', 'X', '\\x81', '8', 'F', 'Y', '\\x00', '6', 'B', 'Z', '\\x83', '5', 'A', 'Y', '\\x00', '6', 'B', 'Z', '\\x81', '7', 'C', '[', '\\x83', '7']\n",
            "2970976\n",
            "['\\x03', '\\x0c', '\\x11', '\\x1e', '\\x0b', '\\x10', '\\x1d', '\\t', '\\x0f', '\\x1e', '\\x07', '\\r', '\\x1d', '\\x83', '\\x07', '\\r', '\\x1c', '\\x87', '\\x08', '\\x0e', '\\x1d', '\\x8d', '\\t', '\\x0f', '\\x1e', '\\x82', '\\t', '\\x0e', '\\x1d', '\\x82', '\\t', '\\x0e', '\\x1c', '\\x00', '\\t', '\\r', '\\x1b', '\\x82', '\\x08', '\\r', '\\x1b', '\\x82', '\\x07', '\\x0c', '\\x1a', '\\x00', '\\x07', '\\x0b', '\\x19', '\\x81']\n"
          ]
        }
      ]
    },
    {
      "cell_type": "code",
      "source": [
        "img = np.zeros((WIDTH, HEIGHT, 3), np.uint8)\n",
        "\n",
        "for i in range(10):\n",
        "  for j in range(10):\n",
        "    img[i,j] = color(255,0,0)\n",
        "img = cv.flip(img, 0)\n",
        "cv2_imshow(img)"
      ],
      "metadata": {
        "colab": {
          "base_uri": "https://localhost:8080/",
          "height": 226
        },
        "id": "zF0GOfD3XD9L",
        "outputId": "5068f083-d637-4be3-e723-1c4367c615c3"
      },
      "execution_count": 6,
      "outputs": [
        {
          "output_type": "error",
          "ename": "NameError",
          "evalue": "ignored",
          "traceback": [
            "\u001b[0;31m---------------------------------------------------------------------------\u001b[0m",
            "\u001b[0;31mNameError\u001b[0m                                 Traceback (most recent call last)",
            "\u001b[0;32m<ipython-input-6-bdcc8daa366a>\u001b[0m in \u001b[0;36m<module>\u001b[0;34m\u001b[0m\n\u001b[1;32m      4\u001b[0m   \u001b[0;32mfor\u001b[0m \u001b[0mj\u001b[0m \u001b[0;32min\u001b[0m \u001b[0mrange\u001b[0m\u001b[0;34m(\u001b[0m\u001b[0;36m10\u001b[0m\u001b[0;34m)\u001b[0m\u001b[0;34m:\u001b[0m\u001b[0;34m\u001b[0m\u001b[0;34m\u001b[0m\u001b[0m\n\u001b[1;32m      5\u001b[0m     \u001b[0mimg\u001b[0m\u001b[0;34m[\u001b[0m\u001b[0mi\u001b[0m\u001b[0;34m,\u001b[0m\u001b[0mj\u001b[0m\u001b[0;34m]\u001b[0m \u001b[0;34m=\u001b[0m \u001b[0mcolor\u001b[0m\u001b[0;34m(\u001b[0m\u001b[0;36m255\u001b[0m\u001b[0;34m,\u001b[0m\u001b[0;36m0\u001b[0m\u001b[0;34m,\u001b[0m\u001b[0;36m0\u001b[0m\u001b[0;34m)\u001b[0m\u001b[0;34m\u001b[0m\u001b[0;34m\u001b[0m\u001b[0m\n\u001b[0;32m----> 6\u001b[0;31m \u001b[0mimg\u001b[0m \u001b[0;34m=\u001b[0m \u001b[0mcv\u001b[0m\u001b[0;34m.\u001b[0m\u001b[0mflip\u001b[0m\u001b[0;34m(\u001b[0m\u001b[0mimg\u001b[0m\u001b[0;34m,\u001b[0m \u001b[0;36m0\u001b[0m\u001b[0;34m)\u001b[0m\u001b[0;34m\u001b[0m\u001b[0;34m\u001b[0m\u001b[0m\n\u001b[0m\u001b[1;32m      7\u001b[0m \u001b[0mcv2_imshow\u001b[0m\u001b[0;34m(\u001b[0m\u001b[0mimg\u001b[0m\u001b[0;34m)\u001b[0m\u001b[0;34m\u001b[0m\u001b[0;34m\u001b[0m\u001b[0m\n",
            "\u001b[0;31mNameError\u001b[0m: name 'cv' is not defined"
          ]
        }
      ]
    }
  ]
}